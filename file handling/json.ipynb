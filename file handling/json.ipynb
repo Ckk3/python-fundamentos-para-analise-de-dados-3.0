{
 "cells": [
  {
   "cell_type": "markdown",
   "source": [
    "# Json"
   ],
   "metadata": {}
  },
  {
   "cell_type": "code",
   "execution_count": 20,
   "source": [
    "import json"
   ],
   "outputs": [],
   "metadata": {}
  },
  {
   "cell_type": "code",
   "execution_count": 21,
   "source": [
    "#Criando dicionário\r\n",
    "dictexample = {'name':'Cleiton', \r\n",
    "'age': 43,\r\n",
    "'lang': 'python',\r\n",
    "'similar': ['c','modula-3', 'lisp'],\r\n",
    "'users':342}"
   ],
   "outputs": [],
   "metadata": {}
  },
  {
   "cell_type": "code",
   "execution_count": 22,
   "source": [
    "with open('data.json', 'w') as file:\r\n",
    "    file.write(json.dumps(dictexample))\r\n",
    "#Criar arquivo json "
   ],
   "outputs": [],
   "metadata": {}
  },
  {
   "cell_type": "code",
   "execution_count": 23,
   "source": [
    "with open('data.json', 'r') as file:\r\n",
    "    text = file.read()\r\n",
    "    data = json.loads(text)\r\n",
    "#lendo arquivo json "
   ],
   "outputs": [],
   "metadata": {}
  },
  {
   "cell_type": "code",
   "execution_count": 24,
   "source": [
    "print(data)\r\n",
    "print(data['users'])"
   ],
   "outputs": [
    {
     "output_type": "stream",
     "name": "stdout",
     "text": [
      "{'name': 'Cleiton', 'age': 43, 'lang': 'python', 'similar': ['c', 'modula-3', 'lisp'], 'users': 342}\n",
      "342\n"
     ]
    }
   ],
   "metadata": {}
  },
  {
   "cell_type": "code",
   "execution_count": 26,
   "source": [
    "# getting json from internet\r\n",
    "from urllib.request import urlopen\r\n",
    "\r\n",
    "responde = urlopen('http://vimeo.com/api/v2/video/57733101.json').read().decode('utf8')\r\n",
    "data = json.loads(responde)[0]"
   ],
   "outputs": [],
   "metadata": {}
  },
  {
   "cell_type": "code",
   "execution_count": 28,
   "source": [
    "print(f'''\r\n",
    "VideoId: {data['id']}\r\n",
    "Title: {data['title']}\r\n",
    "Uploader: {data['user_name']}\r\n",
    "Upload Date: {data['upload_date']}\r\n",
    "Duration(seconds): {data['duration']}\r\n",
    "Views: {data['stats_number_of_plays']}\r\n",
    "URL: {data['url']}\r\n",
    "''')"
   ],
   "outputs": [
    {
     "output_type": "stream",
     "name": "stdout",
     "text": [
      "\n",
      "VideoId: 57733101\n",
      "Title: The Good Man trailer\n",
      "Uploader: Manifesto Films\n",
      "Upload Date: 2013-01-19 04:01:15\n",
      "Duration(seconds): 143\n",
      "Views: 6229\n",
      "URL: https://vimeo.com/57733101\n",
      "\n"
     ]
    }
   ],
   "metadata": {}
  }
 ],
 "metadata": {
  "orig_nbformat": 4,
  "language_info": {
   "name": "python",
   "version": "3.9.6",
   "mimetype": "text/x-python",
   "codemirror_mode": {
    "name": "ipython",
    "version": 3
   },
   "pygments_lexer": "ipython3",
   "nbconvert_exporter": "python",
   "file_extension": ".py"
  },
  "kernelspec": {
   "name": "python3",
   "display_name": "Python 3.9.6 64-bit ('fundamentos_python': conda)"
  },
  "interpreter": {
   "hash": "a8562869a4b943c3f948797917bdf352d2514c33f8af4b9aef9c80250814bbd9"
  }
 },
 "nbformat": 4,
 "nbformat_minor": 2
}