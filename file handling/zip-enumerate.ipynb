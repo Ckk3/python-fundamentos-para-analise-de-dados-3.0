{
 "cells": [
  {
   "cell_type": "markdown",
   "source": [
    "# Zip and Enumerate"
   ],
   "metadata": {}
  },
  {
   "cell_type": "markdown",
   "source": [
    "## Zip"
   ],
   "metadata": {}
  },
  {
   "cell_type": "code",
   "execution_count": 2,
   "source": [
    "#using zip to join two lists\r\n",
    "list(zip([2,3,4], [8,6,3]))"
   ],
   "outputs": [
    {
     "output_type": "execute_result",
     "data": {
      "text/plain": [
       "[(2, 8), (3, 6), (4, 3)]"
      ]
     },
     "metadata": {},
     "execution_count": 2
    }
   ],
   "metadata": {}
  },
  {
   "cell_type": "code",
   "execution_count": 3,
   "source": [
    "#when the total elements is difference\r\n",
    "list(zip([2,3], [9,7,2]))"
   ],
   "outputs": [
    {
     "output_type": "execute_result",
     "data": {
      "text/plain": [
       "[(2, 9), (3, 7)]"
      ]
     },
     "metadata": {},
     "execution_count": 3
    }
   ],
   "metadata": {}
  },
  {
   "cell_type": "code",
   "execution_count": 6,
   "source": [
    "#using with dicts\r\n",
    "dict1 = {'a':3, 'b':7}\r\n",
    "dict2 = {'c':1, 'd':2}\r\n",
    "\r\n",
    "list(zip(dict1, dict2)) #Return only the keys\r\n",
    "\r\n",
    "\r\n",
    "list(zip(dict1, dict2.values())) #Return the keys with values "
   ],
   "outputs": [
    {
     "output_type": "execute_result",
     "data": {
      "text/plain": [
       "[('a', 1), ('b', 2)]"
      ]
     },
     "metadata": {},
     "execution_count": 6
    }
   ],
   "metadata": {}
  },
  {
   "cell_type": "markdown",
   "source": [
    "## Enumerate"
   ],
   "metadata": {}
  },
  {
   "cell_type": "code",
   "execution_count": 8,
   "source": [
    "#Using enumerate to see index and values\r\n",
    "lst = ['a', 'b', 'c']\r\n",
    "list(enumerate(lst))"
   ],
   "outputs": [
    {
     "output_type": "execute_result",
     "data": {
      "text/plain": [
       "[(0, 'a'), (1, 'b'), (2, 'c')]"
      ]
     },
     "metadata": {},
     "execution_count": 8
    }
   ],
   "metadata": {}
  },
  {
   "cell_type": "code",
   "execution_count": 9,
   "source": [
    "#Printing index and values\r\n",
    "for index, value in enumerate(lst):\r\n",
    "    print(f'{index}-{value}')"
   ],
   "outputs": [
    {
     "output_type": "stream",
     "name": "stdout",
     "text": [
      "0-a\n",
      "1-b\n",
      "2-c\n"
     ]
    }
   ],
   "metadata": {}
  }
 ],
 "metadata": {
  "orig_nbformat": 4,
  "language_info": {
   "name": "python",
   "version": "3.9.6",
   "mimetype": "text/x-python",
   "codemirror_mode": {
    "name": "ipython",
    "version": 3
   },
   "pygments_lexer": "ipython3",
   "nbconvert_exporter": "python",
   "file_extension": ".py"
  },
  "kernelspec": {
   "name": "python3",
   "display_name": "Python 3.9.6 64-bit ('fundamentos_python': conda)"
  },
  "interpreter": {
   "hash": "a8562869a4b943c3f948797917bdf352d2514c33f8af4b9aef9c80250814bbd9"
  }
 },
 "nbformat": 4,
 "nbformat_minor": 2
}