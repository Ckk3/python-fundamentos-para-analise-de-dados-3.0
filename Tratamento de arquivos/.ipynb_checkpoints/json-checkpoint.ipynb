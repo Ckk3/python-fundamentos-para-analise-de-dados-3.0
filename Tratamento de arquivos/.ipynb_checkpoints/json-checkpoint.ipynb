{
 "cells": [
  {
   "cell_type": "code",
   "execution_count": null,
   "source": [],
   "outputs": [],
   "metadata": {}
  },
  {
   "cell_type": "markdown",
   "source": [
    "# Json"
   ],
   "metadata": {}
  },
  {
   "cell_type": "code",
   "execution_count": null,
   "source": [
    "#Criando dicionário\r\n",
    "dicionario = {'nome':'Cleiton', \r\n",
    "'idade': 43,\r\n",
    "'linguagem': 'python',\r\n",
    "'similar': ['c','modula-3', 'lisp'],\r\n",
    "'usuarios':342}"
   ],
   "outputs": [],
   "metadata": {}
  }
 ],
 "metadata": {
  "orig_nbformat": 4,
  "language_info": {
   "name": "python"
  }
 },
 "nbformat": 4,
 "nbformat_minor": 2
}