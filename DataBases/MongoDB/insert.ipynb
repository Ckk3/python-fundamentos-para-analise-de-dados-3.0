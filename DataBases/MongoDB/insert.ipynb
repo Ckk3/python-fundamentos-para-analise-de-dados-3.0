{
 "cells": [
  {
   "cell_type": "code",
   "execution_count": 1,
   "source": [
    "from pymongo import MongoClient"
   ],
   "outputs": [],
   "metadata": {}
  },
  {
   "cell_type": "code",
   "execution_count": 2,
   "source": [
    "#Conect to mongodb\r\n",
    "con = MongoClient('localhost', 27017)"
   ],
   "outputs": [],
   "metadata": {}
  },
  {
   "cell_type": "code",
   "execution_count": 3,
   "source": [
    "#Create database\r\n",
    "db = con.registerdb"
   ],
   "outputs": [],
   "metadata": {}
  },
  {
   "cell_type": "code",
   "execution_count": 4,
   "source": [
    "#Create collection\r\n",
    "col = db.registerdb"
   ],
   "outputs": [],
   "metadata": {}
  },
  {
   "cell_type": "code",
   "execution_count": 5,
   "source": [
    "import datetime as dt"
   ],
   "outputs": [],
   "metadata": {}
  },
  {
   "cell_type": "code",
   "execution_count": 6,
   "source": [
    "#Create data\r\n",
    "first_post = {'id':'ID-9875414', 'product_name':'Fridge', 'brands':['Consul', 'Brastemp', 'electrolux'], 'register_date': dt.datetime.utcnow()}"
   ],
   "outputs": [],
   "metadata": {}
  },
  {
   "cell_type": "code",
   "execution_count": 7,
   "source": [
    "first_post"
   ],
   "outputs": [
    {
     "output_type": "execute_result",
     "data": {
      "text/plain": [
       "{'id': 'ID-9875414',\n",
       " 'product_name': 'Fridge',\n",
       " 'brands': ['Consul', 'Brastemp', 'electrolux'],\n",
       " 'register_date': datetime.datetime(2021, 8, 31, 16, 47, 17, 517846)}"
      ]
     },
     "metadata": {},
     "execution_count": 7
    }
   ],
   "metadata": {}
  },
  {
   "cell_type": "code",
   "execution_count": 11,
   "source": [
    "#Create collection \r\n",
    "col = db.posts "
   ],
   "outputs": [],
   "metadata": {}
  },
  {
   "cell_type": "code",
   "execution_count": 12,
   "source": [
    "#Inserting\r\n",
    "post_id = col.insert_one(first_post)"
   ],
   "outputs": [],
   "metadata": {}
  },
  {
   "cell_type": "code",
   "execution_count": 14,
   "source": [
    "post_id.inserted_id #see the id"
   ],
   "outputs": [
    {
     "output_type": "execute_result",
     "data": {
      "text/plain": [
       "ObjectId('612e5e28605e47e8fa7a04e8')"
      ]
     },
     "metadata": {},
     "execution_count": 14
    }
   ],
   "metadata": {}
  },
  {
   "cell_type": "code",
   "execution_count": 16,
   "source": [
    "#Second data\r\n",
    "second_post = {'id':'ID-5249764', 'product_name':'TV', 'brands':['Samsumg', 'LG', 'Sony'], 'register_date': dt.datetime.utcnow()}"
   ],
   "outputs": [],
   "metadata": {}
  },
  {
   "cell_type": "code",
   "execution_count": 17,
   "source": [
    "#collection\r\n",
    "col = db.posts"
   ],
   "outputs": [],
   "metadata": {}
  },
  {
   "cell_type": "code",
   "execution_count": 28,
   "source": [
    "post_id = col.insert_one(second_post)\r\n",
    "#Insert"
   ],
   "outputs": [],
   "metadata": {}
  },
  {
   "cell_type": "code",
   "execution_count": 29,
   "source": [
    "post_id.inserted_id"
   ],
   "outputs": [
    {
     "output_type": "execute_result",
     "data": {
      "text/plain": [
       "ObjectId('612e5f08605e47e8fa7a04e9')"
      ]
     },
     "metadata": {},
     "execution_count": 29
    }
   ],
   "metadata": {}
  },
  {
   "cell_type": "code",
   "execution_count": 30,
   "source": [
    "#Navigate in data\r\n",
    "for post in col.find():\r\n",
    "    print(post)"
   ],
   "outputs": [
    {
     "output_type": "stream",
     "name": "stdout",
     "text": [
      "{'_id': ObjectId('612e5e28605e47e8fa7a04e8'), 'id': 'ID-9875414', 'product_name': 'Fridge', 'brands': ['Consul', 'Brastemp', 'electrolux'], 'register_date': datetime.datetime(2021, 8, 31, 16, 47, 17, 517000)}\n",
      "{'_id': ObjectId('612e5f08605e47e8fa7a04e9'), 'id': 'ID-5249764', 'product_name': 'TV', 'brands': ['Samsumg', 'LG', 'Sony'], 'register_date': datetime.datetime(2021, 8, 31, 16, 53, 59, 400000)}\n"
     ]
    }
   ],
   "metadata": {}
  },
  {
   "cell_type": "code",
   "execution_count": 31,
   "source": [
    "#Find specific data\r\n",
    "col.find_one({'product_name':'TV'})"
   ],
   "outputs": [
    {
     "output_type": "execute_result",
     "data": {
      "text/plain": [
       "{'_id': ObjectId('612e5f08605e47e8fa7a04e9'),\n",
       " 'id': 'ID-5249764',\n",
       " 'product_name': 'TV',\n",
       " 'brands': ['Samsumg', 'LG', 'Sony'],\n",
       " 'register_date': datetime.datetime(2021, 8, 31, 16, 53, 59, 400000)}"
      ]
     },
     "metadata": {},
     "execution_count": 31
    }
   ],
   "metadata": {}
  },
  {
   "cell_type": "code",
   "execution_count": 32,
   "source": [
    "#Database name\r\n",
    "db.name"
   ],
   "outputs": [
    {
     "output_type": "execute_result",
     "data": {
      "text/plain": [
       "'registerdb'"
      ]
     },
     "metadata": {},
     "execution_count": 32
    }
   ],
   "metadata": {}
  },
  {
   "cell_type": "code",
   "execution_count": 35,
   "source": [
    "#Colection\r\n",
    "db.collection_names()"
   ],
   "outputs": [
    {
     "output_type": "stream",
     "name": "stderr",
     "text": [
      "<ipython-input-35-6682ce90a4c2>:2: DeprecationWarning: collection_names is deprecated. Use list_collection_names instead.\n",
      "  db.collection_names()\n"
     ]
    },
    {
     "output_type": "execute_result",
     "data": {
      "text/plain": [
       "['posts']"
      ]
     },
     "metadata": {},
     "execution_count": 35
    }
   ],
   "metadata": {}
  }
 ],
 "metadata": {
  "orig_nbformat": 4,
  "language_info": {
   "name": "python",
   "version": "3.9.6",
   "mimetype": "text/x-python",
   "codemirror_mode": {
    "name": "ipython",
    "version": 3
   },
   "pygments_lexer": "ipython3",
   "nbconvert_exporter": "python",
   "file_extension": ".py"
  },
  "kernelspec": {
   "name": "python3",
   "display_name": "Python 3.9.6 64-bit ('fundamentos_python': conda)"
  },
  "interpreter": {
   "hash": "d7466b273df2f95dc5a6b89fbf60faf8fd1c0b8fbadd6ed6f27d3677aa8eb018"
  }
 },
 "nbformat": 4,
 "nbformat_minor": 2
}