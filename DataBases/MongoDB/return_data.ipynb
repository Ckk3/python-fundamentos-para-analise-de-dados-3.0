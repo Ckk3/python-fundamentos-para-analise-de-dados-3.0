{
 "cells": [
  {
   "cell_type": "code",
   "execution_count": 1,
   "source": [
    "import pymongo"
   ],
   "outputs": [],
   "metadata": {}
  },
  {
   "cell_type": "code",
   "execution_count": 3,
   "source": [
    "con = pymongo.MongoClient()"
   ],
   "outputs": [],
   "metadata": {}
  },
  {
   "cell_type": "code",
   "execution_count": 6,
   "source": [
    "con.database_names()\r\n",
    "#See databases names "
   ],
   "outputs": [
    {
     "output_type": "stream",
     "name": "stderr",
     "text": [
      "<ipython-input-6-e627cde2e8e6>:1: DeprecationWarning: database_names is deprecated. Use list_database_names instead.\n",
      "  con.database_names()\n"
     ]
    },
    {
     "output_type": "execute_result",
     "data": {
      "text/plain": [
       "['admin', 'config', 'local', 'registerdb']"
      ]
     },
     "metadata": {},
     "execution_count": 6
    }
   ],
   "metadata": {}
  },
  {
   "cell_type": "code",
   "execution_count": 7,
   "source": [
    "db = con.registerdb"
   ],
   "outputs": [],
   "metadata": {}
  },
  {
   "cell_type": "code",
   "execution_count": 11,
   "source": [
    "db.collection_names()"
   ],
   "outputs": [
    {
     "output_type": "stream",
     "name": "stderr",
     "text": [
      "<ipython-input-11-8ff4d2505e25>:1: DeprecationWarning: collection_names is deprecated. Use list_collection_names instead.\n",
      "  db.collection_names()\n"
     ]
    },
    {
     "output_type": "execute_result",
     "data": {
      "text/plain": [
       "['mycollection', 'posts']"
      ]
     },
     "metadata": {},
     "execution_count": 11
    }
   ],
   "metadata": {}
  },
  {
   "cell_type": "code",
   "execution_count": 10,
   "source": [
    "#Create a collection\r\n",
    "col = db.create_collection('mycollection')"
   ],
   "outputs": [],
   "metadata": {}
  },
  {
   "cell_type": "code",
   "execution_count": 13,
   "source": [
    "#inserting data\r\n",
    "db.mycollection.insert_one({'Title': 'MongoDB with python', 'Description':'MongoDB is a NoSQL database', 'By': 'Data Science Academy', 'URL': 'https://www.datascienceacademy.com.br', 'tags': ['mongodb', 'database', 'nosql', 'python'], 'likes': 100})"
   ],
   "outputs": [
    {
     "output_type": "execute_result",
     "data": {
      "text/plain": [
       "<pymongo.results.InsertOneResult at 0x2c685226c80>"
      ]
     },
     "metadata": {},
     "execution_count": 13
    }
   ],
   "metadata": {}
  },
  {
   "cell_type": "code",
   "execution_count": 15,
   "source": [
    "db.mycollection.find_one()"
   ],
   "outputs": [
    {
     "output_type": "execute_result",
     "data": {
      "text/plain": [
       "{'_id': ObjectId('612e651ca0ea241e61a54854'),\n",
       " 'Title': 'MongoDB with python',\n",
       " 'Description': 'MongoDB is a NoSQL database',\n",
       " 'By': 'Data Science Academy',\n",
       " 'URL': 'https://www.datascienceacademy.com.br',\n",
       " 'tags': ['mongodb', 'database', 'nosql', 'python'],\n",
       " 'likes': 100}"
      ]
     },
     "metadata": {},
     "execution_count": 15
    }
   ],
   "metadata": {}
  },
  {
   "cell_type": "code",
   "execution_count": 16,
   "source": [
    "#creatign a document\r\n",
    "first_doc = {'Name':'Joe', 'Last_Name':'Biden', 'twitter': '@POTUS'}"
   ],
   "outputs": [],
   "metadata": {}
  },
  {
   "cell_type": "code",
   "execution_count": 17,
   "source": [
    "db.mycollection.insert_one(first_doc)"
   ],
   "outputs": [
    {
     "output_type": "execute_result",
     "data": {
      "text/plain": [
       "<pymongo.results.InsertOneResult at 0x2c685214f80>"
      ]
     },
     "metadata": {},
     "execution_count": 17
    }
   ],
   "metadata": {}
  },
  {
   "cell_type": "code",
   "execution_count": 18,
   "source": [
    "#Antoher doc\r\n",
    "secn_doc = {'Site': 'https://www.datascienceacademy.com.br', 'Facebook': 'facebook.com/dsacademy'}"
   ],
   "outputs": [],
   "metadata": {}
  },
  {
   "cell_type": "code",
   "execution_count": 19,
   "source": [
    "db.mycollection.insert_one(secn_doc)"
   ],
   "outputs": [
    {
     "output_type": "execute_result",
     "data": {
      "text/plain": [
       "<pymongo.results.InsertOneResult at 0x2c685214d80>"
      ]
     },
     "metadata": {},
     "execution_count": 19
    }
   ],
   "metadata": {}
  },
  {
   "cell_type": "code",
   "execution_count": 20,
   "source": [
    "for rec in db.mycollection.find():\r\n",
    "    print(rec)"
   ],
   "outputs": [
    {
     "output_type": "stream",
     "name": "stdout",
     "text": [
      "{'_id': ObjectId('612e651ca0ea241e61a54854'), 'Title': 'MongoDB with python', 'Description': 'MongoDB is a NoSQL database', 'By': 'Data Science Academy', 'URL': 'https://www.datascienceacademy.com.br', 'tags': ['mongodb', 'database', 'nosql', 'python'], 'likes': 100}\n",
      "{'_id': ObjectId('612e66d9a0ea241e61a54855'), 'Name': 'Joe', 'Last_Name': 'Biden', 'twitter': '@POTUS'}\n",
      "{'_id': ObjectId('612e682fa0ea241e61a54856'), 'Site': 'https://www.datascienceacademy.com.br', 'Facebook': 'facebook.com/dsacademy'}\n"
     ]
    }
   ],
   "metadata": {}
  },
  {
   "cell_type": "code",
   "execution_count": 22,
   "source": [
    "#Conecting to a collection\r\n",
    "col = db['mycollection']"
   ],
   "outputs": [],
   "metadata": {}
  },
  {
   "cell_type": "code",
   "execution_count": 32,
   "source": [
    "col.estimated_document_count()\r\n",
    "#Count documents"
   ],
   "outputs": [
    {
     "output_type": "execute_result",
     "data": {
      "text/plain": [
       "3"
      ]
     },
     "metadata": {},
     "execution_count": 32
    }
   ],
   "metadata": {}
  },
  {
   "cell_type": "code",
   "execution_count": 39,
   "source": [
    "#find only one doc\r\n",
    "redoc = col.find_one()"
   ],
   "outputs": [],
   "metadata": {}
  },
  {
   "cell_type": "code",
   "execution_count": 40,
   "source": [
    "redoc"
   ],
   "outputs": [
    {
     "output_type": "execute_result",
     "data": {
      "text/plain": [
       "{'_id': ObjectId('612e651ca0ea241e61a54854'),\n",
       " 'Title': 'MongoDB with python',\n",
       " 'Description': 'MongoDB is a NoSQL database',\n",
       " 'By': 'Data Science Academy',\n",
       " 'URL': 'https://www.datascienceacademy.com.br',\n",
       " 'tags': ['mongodb', 'database', 'nosql', 'python'],\n",
       " 'likes': 100}"
      ]
     },
     "metadata": {},
     "execution_count": 40
    }
   ],
   "metadata": {}
  },
  {
   "cell_type": "code",
   "execution_count": null,
   "source": [],
   "outputs": [],
   "metadata": {}
  }
 ],
 "metadata": {
  "orig_nbformat": 4,
  "language_info": {
   "name": "python",
   "version": "3.9.6",
   "mimetype": "text/x-python",
   "codemirror_mode": {
    "name": "ipython",
    "version": 3
   },
   "pygments_lexer": "ipython3",
   "nbconvert_exporter": "python",
   "file_extension": ".py"
  },
  "kernelspec": {
   "name": "python3",
   "display_name": "Python 3.9.6 64-bit ('fundamentos_python': conda)"
  },
  "interpreter": {
   "hash": "d7466b273df2f95dc5a6b89fbf60faf8fd1c0b8fbadd6ed6f27d3677aa8eb018"
  }
 },
 "nbformat": 4,
 "nbformat_minor": 2
}