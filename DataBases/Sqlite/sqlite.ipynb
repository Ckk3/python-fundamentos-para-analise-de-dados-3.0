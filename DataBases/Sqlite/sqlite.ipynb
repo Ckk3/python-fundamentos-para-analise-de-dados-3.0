{
 "cells": [
  {
   "cell_type": "markdown",
   "source": [
    "# Acessing DataBases "
   ],
   "metadata": {}
  },
  {
   "cell_type": "code",
   "execution_count": 1,
   "source": [
    "import os\r\n",
    "os.remove('escola.db') if os.path.exists('escola.db') else None #Verify if the file already exists"
   ],
   "outputs": [],
   "metadata": {}
  },
  {
   "cell_type": "code",
   "execution_count": 2,
   "source": [
    "import sqlite3"
   ],
   "outputs": [],
   "metadata": {}
  },
  {
   "cell_type": "code",
   "execution_count": 3,
   "source": [
    "con = sqlite3.connect('escola.db')\r\n",
    "#Creating database"
   ],
   "outputs": [],
   "metadata": {}
  },
  {
   "cell_type": "code",
   "execution_count": 4,
   "source": [
    "cursor = con.cursor()\r\n",
    "#get acess to database"
   ],
   "outputs": [],
   "metadata": {}
  },
  {
   "cell_type": "code",
   "execution_count": 5,
   "source": [
    "#Commands to database\r\n",
    "command_create = 'create table courses (id intenger primary key, title varchar (100), category varchar(140))'"
   ],
   "outputs": [],
   "metadata": {}
  },
  {
   "cell_type": "code",
   "execution_count": 6,
   "source": [
    "cursor.execute(command_create)"
   ],
   "outputs": [
    {
     "output_type": "execute_result",
     "data": {
      "text/plain": [
       "<sqlite3.Cursor at 0x1749e68a030>"
      ]
     },
     "metadata": {},
     "execution_count": 6
    }
   ],
   "metadata": {}
  },
  {
   "cell_type": "code",
   "execution_count": 7,
   "source": [
    "#Data\r\n",
    "toInsert = [(1000, 'Data Science', 'Data Science'),\r\n",
    "        (1001, 'Big Data Fundamentals', 'Big Data'),\r\n",
    "        (1002, 'Python Fundamentals', 'Data Analysis') \r\n",
    "        ]"
   ],
   "outputs": [],
   "metadata": {}
  },
  {
   "cell_type": "code",
   "execution_count": 8,
   "source": [
    "#insert \r\n",
    "command_insert = 'insert into courses values (?, ?, ?)'\r\n",
    "for d in toInsert:\r\n",
    "    cursor.execute(command_insert, d)"
   ],
   "outputs": [],
   "metadata": {}
  },
  {
   "cell_type": "code",
   "execution_count": 9,
   "source": [
    "#Record trasation\r\n",
    "con.commit()"
   ],
   "outputs": [],
   "metadata": {}
  },
  {
   "cell_type": "code",
   "execution_count": 10,
   "source": [
    "command_select = 'select * from courses'"
   ],
   "outputs": [],
   "metadata": {}
  },
  {
   "cell_type": "code",
   "execution_count": 11,
   "source": [
    "#get and return all registers\r\n",
    "cursor.execute(command_select)\r\n",
    "data = cursor.fetchall()"
   ],
   "outputs": [],
   "metadata": {}
  },
  {
   "cell_type": "code",
   "execution_count": 12,
   "source": [
    "for row in data:\r\n",
    "    print(row)"
   ],
   "outputs": [
    {
     "output_type": "stream",
     "name": "stdout",
     "text": [
      "(1000, 'Data Science', 'Data Science')\n",
      "(1001, 'Big Data Fundamentals', 'Big Data')\n",
      "(1002, 'Python Fundamentals', 'Data Analysis')\n"
     ]
    }
   ],
   "metadata": {}
  }
 ],
 "metadata": {
  "orig_nbformat": 4,
  "language_info": {
   "name": "python",
   "version": "3.9.6",
   "mimetype": "text/x-python",
   "codemirror_mode": {
    "name": "ipython",
    "version": 3
   },
   "pygments_lexer": "ipython3",
   "nbconvert_exporter": "python",
   "file_extension": ".py"
  },
  "kernelspec": {
   "name": "python3",
   "display_name": "Python 3.9.6 64-bit ('fundamentos_python': conda)"
  },
  "interpreter": {
   "hash": "d7466b273df2f95dc5a6b89fbf60faf8fd1c0b8fbadd6ed6f27d3677aa8eb018"
  }
 },
 "nbformat": 4,
 "nbformat_minor": 2
}