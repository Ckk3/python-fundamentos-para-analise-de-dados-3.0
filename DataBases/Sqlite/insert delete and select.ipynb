{
 "cells": [
  {
   "cell_type": "code",
   "execution_count": 2,
   "source": [
    "import os\r\n",
    "import datetime as dt\r\n",
    "from random import randrange\r\n",
    "os.remove('dsa.db') if os.path.exists('dsa.db') else None"
   ],
   "outputs": [],
   "metadata": {}
  },
  {
   "cell_type": "code",
   "execution_count": 3,
   "source": [
    "import sqlite3\r\n",
    "\r\n",
    "con = sqlite3.connect('dsa.db')\r\n",
    "cursor = con.cursor()\r\n",
    "\r\n",
    "#Functions\r\n",
    "def create_table():\r\n",
    "    cursor.execute('create table if not exists products (id integer primary key autoincrement not null, date text, prod_name text, value real)')\r\n",
    "\r\n",
    "def insert_data(id:int, date:dt, productName:str, value:float):\r\n",
    "    cursor.execute(f'insert into products values({id}, \"{date}\", \"{productName}\", {value})')"
   ],
   "outputs": [],
   "metadata": {}
  },
  {
   "cell_type": "code",
   "execution_count": 4,
   "source": [
    "#Create table\r\n",
    "create_table()"
   ],
   "outputs": [],
   "metadata": {}
  },
  {
   "cell_type": "code",
   "execution_count": 5,
   "source": [
    "#Inserting values\r\n",
    "insert_data(id=10, date='2018-05-02 14:32:11', productName='Keyboard', value=90)"
   ],
   "outputs": [],
   "metadata": {}
  },
  {
   "cell_type": "code",
   "execution_count": 6,
   "source": [
    "def insert_data_var(date:dt, productName:str, value:float):\r\n",
    "    cursor.execute(f'insert into products (date, prod_name, value) values(\"{date}\", \"{productName}\", {value})')\r\n",
    "    con.commit()"
   ],
   "outputs": [],
   "metadata": {}
  },
  {
   "cell_type": "code",
   "execution_count": 7,
   "source": [
    "for c in range(10):\r\n",
    "    insert_data_var(date=dt.datetime.now(), productName='Monitor', value=randrange(50, 200))"
   ],
   "outputs": [],
   "metadata": {}
  },
  {
   "cell_type": "code",
   "execution_count": 8,
   "source": [
    "#Select all data\r\n",
    "def read_all_data():\r\n",
    "    cursor.execute('select * from products')\r\n",
    "    for row in cursor.fetchall():\r\n",
    "        print(row)\r\n",
    "\r\n",
    "#Select especific data\r\n",
    "def read_where():\r\n",
    "    cursor.execute('select * from products where value > 100')\r\n",
    "    for row in cursor.fetchall():\r\n",
    "        print(row)\r\n",
    "\r\n",
    "#Select a column\r\n",
    "def read_column():\r\n",
    "    cursor.execute('select * from products')\r\n",
    "    for row in cursor.fetchall():\r\n",
    "        print(row[3])"
   ],
   "outputs": [],
   "metadata": {}
  },
  {
   "cell_type": "code",
   "execution_count": 9,
   "source": [
    "read_all_data()\r\n",
    "#Read all data"
   ],
   "outputs": [
    {
     "output_type": "stream",
     "name": "stdout",
     "text": [
      "(10, '2018-05-02 14:32:11', 'Keyboard', 90.0)\n",
      "(11, '2021-08-26 22:58:07.376030', 'Monitor', 150.0)\n",
      "(12, '2021-08-26 22:58:07.454272', 'Monitor', 75.0)\n",
      "(13, '2021-08-26 22:58:07.538597', 'Monitor', 52.0)\n",
      "(14, '2021-08-26 22:58:07.623965', 'Monitor', 177.0)\n",
      "(15, '2021-08-26 22:58:07.697487', 'Monitor', 123.0)\n",
      "(16, '2021-08-26 22:58:07.783187', 'Monitor', 104.0)\n",
      "(17, '2021-08-26 22:58:07.867879', 'Monitor', 169.0)\n",
      "(18, '2021-08-26 22:58:07.941872', 'Monitor', 92.0)\n",
      "(19, '2021-08-26 22:58:08.064254', 'Monitor', 116.0)\n",
      "(20, '2021-08-26 22:58:08.155031', 'Monitor', 182.0)\n"
     ]
    }
   ],
   "metadata": {}
  },
  {
   "cell_type": "code",
   "execution_count": 10,
   "source": [
    "#Read data where value > 100\r\n",
    "read_where()"
   ],
   "outputs": [
    {
     "output_type": "stream",
     "name": "stdout",
     "text": [
      "(11, '2021-08-26 22:58:07.376030', 'Monitor', 150.0)\n",
      "(14, '2021-08-26 22:58:07.623965', 'Monitor', 177.0)\n",
      "(15, '2021-08-26 22:58:07.697487', 'Monitor', 123.0)\n",
      "(16, '2021-08-26 22:58:07.783187', 'Monitor', 104.0)\n",
      "(17, '2021-08-26 22:58:07.867879', 'Monitor', 169.0)\n",
      "(19, '2021-08-26 22:58:08.064254', 'Monitor', 116.0)\n",
      "(20, '2021-08-26 22:58:08.155031', 'Monitor', 182.0)\n"
     ]
    }
   ],
   "metadata": {}
  },
  {
   "cell_type": "code",
   "execution_count": 11,
   "source": [
    "#Read value column\r\n",
    "read_column()"
   ],
   "outputs": [
    {
     "output_type": "stream",
     "name": "stdout",
     "text": [
      "90.0\n",
      "150.0\n",
      "75.0\n",
      "52.0\n",
      "177.0\n",
      "123.0\n",
      "104.0\n",
      "169.0\n",
      "92.0\n",
      "116.0\n",
      "182.0\n"
     ]
    }
   ],
   "metadata": {}
  },
  {
   "cell_type": "code",
   "execution_count": 12,
   "source": [
    "#Update data\r\n",
    "def update_data():\r\n",
    "    cursor.execute('update products set value = 40.00 where value = 90')\r\n",
    "    con.commit()\r\n",
    "\r\n",
    "#Delete data\r\n",
    "def delete_data():\r\n",
    "    cursor.execute('delete from products where value = 40')\r\n",
    "    con.commit()"
   ],
   "outputs": [],
   "metadata": {}
  },
  {
   "cell_type": "code",
   "execution_count": 13,
   "source": [
    "#Update data \r\n",
    "update_data()"
   ],
   "outputs": [],
   "metadata": {}
  },
  {
   "cell_type": "code",
   "execution_count": 14,
   "source": [
    "read_all_data()"
   ],
   "outputs": [
    {
     "output_type": "stream",
     "name": "stdout",
     "text": [
      "(10, '2018-05-02 14:32:11', 'Keyboard', 40.0)\n",
      "(11, '2021-08-26 22:58:07.376030', 'Monitor', 150.0)\n",
      "(12, '2021-08-26 22:58:07.454272', 'Monitor', 75.0)\n",
      "(13, '2021-08-26 22:58:07.538597', 'Monitor', 52.0)\n",
      "(14, '2021-08-26 22:58:07.623965', 'Monitor', 177.0)\n",
      "(15, '2021-08-26 22:58:07.697487', 'Monitor', 123.0)\n",
      "(16, '2021-08-26 22:58:07.783187', 'Monitor', 104.0)\n",
      "(17, '2021-08-26 22:58:07.867879', 'Monitor', 169.0)\n",
      "(18, '2021-08-26 22:58:07.941872', 'Monitor', 92.0)\n",
      "(19, '2021-08-26 22:58:08.064254', 'Monitor', 116.0)\n",
      "(20, '2021-08-26 22:58:08.155031', 'Monitor', 182.0)\n"
     ]
    }
   ],
   "metadata": {}
  },
  {
   "cell_type": "code",
   "execution_count": 15,
   "source": [
    "#deleting data\r\n",
    "delete_data()"
   ],
   "outputs": [],
   "metadata": {}
  },
  {
   "cell_type": "code",
   "execution_count": 16,
   "source": [
    "read_all_data()"
   ],
   "outputs": [
    {
     "output_type": "stream",
     "name": "stdout",
     "text": [
      "(11, '2021-08-26 22:58:07.376030', 'Monitor', 150.0)\n",
      "(12, '2021-08-26 22:58:07.454272', 'Monitor', 75.0)\n",
      "(13, '2021-08-26 22:58:07.538597', 'Monitor', 52.0)\n",
      "(14, '2021-08-26 22:58:07.623965', 'Monitor', 177.0)\n",
      "(15, '2021-08-26 22:58:07.697487', 'Monitor', 123.0)\n",
      "(16, '2021-08-26 22:58:07.783187', 'Monitor', 104.0)\n",
      "(17, '2021-08-26 22:58:07.867879', 'Monitor', 169.0)\n",
      "(18, '2021-08-26 22:58:07.941872', 'Monitor', 92.0)\n",
      "(19, '2021-08-26 22:58:08.064254', 'Monitor', 116.0)\n",
      "(20, '2021-08-26 22:58:08.155031', 'Monitor', 182.0)\n"
     ]
    }
   ],
   "metadata": {}
  },
  {
   "cell_type": "code",
   "execution_count": 17,
   "source": [
    "#Close conect\r\n",
    "#cursor.close()\r\n",
    "#con.close()"
   ],
   "outputs": [],
   "metadata": {}
  }
 ],
 "metadata": {
  "orig_nbformat": 4,
  "language_info": {
   "name": "python",
   "version": "3.9.6",
   "mimetype": "text/x-python",
   "codemirror_mode": {
    "name": "ipython",
    "version": 3
   },
   "pygments_lexer": "ipython3",
   "nbconvert_exporter": "python",
   "file_extension": ".py"
  },
  "kernelspec": {
   "name": "python3",
   "display_name": "Python 3.9.6 64-bit ('fundamentos_python': conda)"
  },
  "interpreter": {
   "hash": "d7466b273df2f95dc5a6b89fbf60faf8fd1c0b8fbadd6ed6f27d3677aa8eb018"
  }
 },
 "nbformat": 4,
 "nbformat_minor": 2
}