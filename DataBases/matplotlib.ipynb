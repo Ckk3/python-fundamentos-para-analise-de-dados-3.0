{
 "cells": [
  {
   "cell_type": "code",
   "execution_count": 1,
   "source": [
    "import sqlite3\r\n",
    "import "
   ],
   "outputs": [],
   "metadata": {}
  },
  {
   "cell_type": "code",
   "execution_count": 3,
   "source": [
    "con = sqlite3.connect('dsa.db')\r\n",
    "\r\n",
    "cursor = con.cursor()"
   ],
   "outputs": [],
   "metadata": {}
  },
  {
   "cell_type": "code",
   "execution_count": null,
   "source": [],
   "outputs": [],
   "metadata": {}
  }
 ],
 "metadata": {
  "orig_nbformat": 4,
  "language_info": {
   "name": "python",
   "version": "3.9.6",
   "mimetype": "text/x-python",
   "codemirror_mode": {
    "name": "ipython",
    "version": 3
   },
   "pygments_lexer": "ipython3",
   "nbconvert_exporter": "python",
   "file_extension": ".py"
  },
  "kernelspec": {
   "name": "python3",
   "display_name": "Python 3.9.6 64-bit ('fundamentos_python': conda)"
  },
  "interpreter": {
   "hash": "d7466b273df2f95dc5a6b89fbf60faf8fd1c0b8fbadd6ed6f27d3677aa8eb018"
  }
 },
 "nbformat": 4,
 "nbformat_minor": 2
}