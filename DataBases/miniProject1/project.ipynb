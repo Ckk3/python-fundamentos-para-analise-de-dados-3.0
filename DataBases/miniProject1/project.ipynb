{
 "cells": [
  {
   "cell_type": "code",
   "execution_count": 5,
   "source": [
    "#Importing\r\n",
    "import re #regular expression\r\n",
    "import time\r\n",
    "import sqlite3\r\n",
    "import pycountry\r\n",
    "import numpy as np\r\n",
    "import pandas as pd\r\n",
    "import matplotlib as cm\r\n",
    "import matplotlib.pyplot as plt\r\n",
    "import seaborn as sns\r\n",
    "from sklearn.feature_extraction.text import CountVectorizer\r\n",
    "\r\n",
    "sns.set_theme(style='whitegrid') #seting default theme "
   ],
   "outputs": [],
   "metadata": {}
  },
  {
   "cell_type": "markdown",
   "source": [
    "# Loading data"
   ],
   "metadata": {}
  },
  {
   "cell_type": "markdown",
   "source": [],
   "metadata": {}
  }
 ],
 "metadata": {
  "orig_nbformat": 4,
  "language_info": {
   "name": "python",
   "version": "3.9.6",
   "mimetype": "text/x-python",
   "codemirror_mode": {
    "name": "ipython",
    "version": 3
   },
   "pygments_lexer": "ipython3",
   "nbconvert_exporter": "python",
   "file_extension": ".py"
  },
  "kernelspec": {
   "name": "python3",
   "display_name": "Python 3.9.6 64-bit ('fundamentos_python': conda)"
  },
  "interpreter": {
   "hash": "d7466b273df2f95dc5a6b89fbf60faf8fd1c0b8fbadd6ed6f27d3677aa8eb018"
  }
 },
 "nbformat": 4,
 "nbformat_minor": 2
}