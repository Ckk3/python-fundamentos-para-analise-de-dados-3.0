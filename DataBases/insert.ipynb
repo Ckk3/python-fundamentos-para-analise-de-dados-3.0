{
 "cells": [
  {
   "cell_type": "code",
   "execution_count": 17,
   "source": [
    "import os\r\n",
    "import datetime as dt\r\n",
    "from random import randrange\r\n",
    "os.remove('dsa.db') if os.path.exists('dsa.db') else None"
   ],
   "outputs": [],
   "metadata": {}
  },
  {
   "cell_type": "code",
   "execution_count": 18,
   "source": [
    "import sqlite3\r\n",
    "\r\n",
    "con = sqlite3.connect('dsa.db')\r\n",
    "cursor = con.cursor()\r\n",
    "\r\n",
    "#Functions\r\n",
    "def create_table():\r\n",
    "    cursor.execute('create table if not exists products (id integer primary key autoincrement not null, date text, prod_name text, value real)')\r\n",
    "\r\n",
    "def insert_data(id:int, date:dt, productName:str, value:float):\r\n",
    "    cursor.execute(f'insert into products values({id}, \"{date}\", \"{productName}\", {value})')"
   ],
   "outputs": [],
   "metadata": {}
  },
  {
   "cell_type": "code",
   "execution_count": 19,
   "source": [
    "#Create table\r\n",
    "create_table()"
   ],
   "outputs": [],
   "metadata": {}
  },
  {
   "cell_type": "code",
   "execution_count": 20,
   "source": [
    "#Inserting values\r\n",
    "insert_data(id=10, date='2018-05-02 14:32:11', productName='Keyboard', value=90)"
   ],
   "outputs": [],
   "metadata": {}
  },
  {
   "cell_type": "code",
   "execution_count": 21,
   "source": [
    "def insert_data_var(date:dt, productName:str, value:float):\r\n",
    "    cursor.execute(f'insert into products (date, prod_name, value) values(\"{date}\", \"{productName}\", {value})')\r\n",
    "    con.commit()"
   ],
   "outputs": [],
   "metadata": {}
  },
  {
   "cell_type": "code",
   "execution_count": 23,
   "source": [
    "for c in range(10):\r\n",
    "    insert_data_var(date=dt.datetime.now(), productName='Monitor', value=randrange(50, 200))"
   ],
   "outputs": [],
   "metadata": {}
  },
  {
   "cell_type": "code",
   "execution_count": null,
   "source": [
    "#Close conect\r\n",
    "cursor.close()\r\n",
    "con.close()"
   ],
   "outputs": [],
   "metadata": {}
  }
 ],
 "metadata": {
  "orig_nbformat": 4,
  "language_info": {
   "name": "python",
   "version": "3.9.6",
   "mimetype": "text/x-python",
   "codemirror_mode": {
    "name": "ipython",
    "version": 3
   },
   "pygments_lexer": "ipython3",
   "nbconvert_exporter": "python",
   "file_extension": ".py"
  },
  "kernelspec": {
   "name": "python3",
   "display_name": "Python 3.9.6 64-bit ('fundamentos_python': conda)"
  },
  "interpreter": {
   "hash": "d7466b273df2f95dc5a6b89fbf60faf8fd1c0b8fbadd6ed6f27d3677aa8eb018"
  }
 },
 "nbformat": 4,
 "nbformat_minor": 2
}