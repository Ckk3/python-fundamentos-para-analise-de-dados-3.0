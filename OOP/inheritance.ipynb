{
 "cells": [
  {
   "cell_type": "markdown",
   "source": [
    "# Inheritance"
   ],
   "metadata": {}
  },
  {
   "cell_type": "code",
   "execution_count": null,
   "source": [],
   "outputs": [],
   "metadata": {}
  }
 ],
 "metadata": {
  "orig_nbformat": 4,
  "language_info": {
   "name": "python",
   "version": "3.9.6"
  },
  "kernelspec": {
   "name": "python3",
   "display_name": "Python 3.9.6 64-bit ('fundamentos_python': conda)"
  },
  "interpreter": {
   "hash": "a8562869a4b943c3f948797917bdf352d2514c33f8af4b9aef9c80250814bbd9"
  }
 },
 "nbformat": 4,
 "nbformat_minor": 2
}