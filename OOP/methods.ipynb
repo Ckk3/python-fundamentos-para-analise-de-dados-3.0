{
 "cells": [
  {
   "cell_type": "markdown",
   "source": [
    "# Methods"
   ],
   "metadata": {}
  },
  {
   "cell_type": "code",
   "execution_count": 2,
   "source": [
    "class Circle():\r\n",
    "    #Constant value\r\n",
    "    pi = 3.141592653589793\r\n",
    "\r\n",
    "    def __init__(self, radius) -> None:\r\n",
    "        self.radius = radius\r\n",
    "    \r\n",
    "    def area(self):\r\n",
    "        return (self.radius ** 2) * Circle.pi\r\n",
    "    def setRadius(self, new_radius):\r\n",
    "        self.radius = new_radius\r\n",
    "    def getRadius(self):\r\n",
    "        return self.radius"
   ],
   "outputs": [],
   "metadata": {}
  },
  {
   "cell_type": "code",
   "execution_count": 3,
   "source": [
    "circ = Circle(radius=4)\r\n",
    "circ.getRadius()"
   ],
   "outputs": [
    {
     "output_type": "execute_result",
     "data": {
      "text/plain": [
       "4"
      ]
     },
     "metadata": {},
     "execution_count": 3
    }
   ],
   "metadata": {}
  },
  {
   "cell_type": "code",
   "execution_count": 7,
   "source": [
    "circ.setRadius(new_radius=5)\r\n",
    "circ.getRadius()"
   ],
   "outputs": [
    {
     "output_type": "execute_result",
     "data": {
      "text/plain": [
       "5"
      ]
     },
     "metadata": {},
     "execution_count": 7
    }
   ],
   "metadata": {}
  },
  {
   "cell_type": "code",
   "execution_count": 8,
   "source": [
    "circ.area()"
   ],
   "outputs": [
    {
     "output_type": "execute_result",
     "data": {
      "text/plain": [
       "78.53981633974483"
      ]
     },
     "metadata": {},
     "execution_count": 8
    }
   ],
   "metadata": {}
  },
  {
   "cell_type": "code",
   "execution_count": null,
   "source": [],
   "outputs": [],
   "metadata": {}
  }
 ],
 "metadata": {
  "orig_nbformat": 4,
  "language_info": {
   "name": "python",
   "version": "3.9.6",
   "mimetype": "text/x-python",
   "codemirror_mode": {
    "name": "ipython",
    "version": 3
   },
   "pygments_lexer": "ipython3",
   "nbconvert_exporter": "python",
   "file_extension": ".py"
  },
  "kernelspec": {
   "name": "python3",
   "display_name": "Python 3.9.6 64-bit ('fundamentos_python': conda)"
  },
  "interpreter": {
   "hash": "a8562869a4b943c3f948797917bdf352d2514c33f8af4b9aef9c80250814bbd9"
  }
 },
 "nbformat": 4,
 "nbformat_minor": 2
}